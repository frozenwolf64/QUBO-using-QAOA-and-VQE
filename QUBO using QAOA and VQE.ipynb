{
 "cells": [
  {
   "cell_type": "code",
   "execution_count": 219,
   "metadata": {},
   "outputs": [],
   "source": [
    "import qiskit as qt\n",
    "import numpy as np\n",
    "from qiskit import Aer\n",
    "import time"
   ]
  },
  {
   "cell_type": "markdown",
   "metadata": {},
   "source": [
    "Function to be minimized is ,\n",
    "$$\n",
    "y = -5 x_1 - 3 x_2 - 8 x_3 - 6 x_4 + 4 x_1 x_2 + 8 x_1 x_3 + 2 x_2 x_3 + 10 x_3 x_4\n",
    "$$"
   ]
  },
  {
   "cell_type": "markdown",
   "metadata": {},
   "source": [
    "QUBO problem can be reformulated in terms of the following Hamiltonian. Since $x_i\\in\\{0,1\\}$ in the problem, we can use\n",
    "the mapping,\n",
    "$$\n",
    "x_i \\rightarrow \\frac{I - Z_i}{2}\n",
    "$$\n",
    "\n",
    "Accordingly, the Hamiltonian is,\n",
    "\n",
    "\\begin{align*}\n",
    "H =& -5 \\frac{I-Z_1}{2} - 3 \\frac{I-Z_2}{2} -8 \\frac{I-Z_3}{2}  - 6 \\frac{I-Z_4}{2} \\\\ \n",
    "&+ 4 \\frac{I-Z_1}{2} \\frac{I-Z_2}{2}+ 8 \\frac{I-Z_1}{2} \\frac{I-Z_3}{2} + 2 \\frac{I-Z_2}{2}\\frac{I-Z_3}{2} + 10 \\frac{I-Z_3}{2}\\frac{I-Z_4}{2} \\\\\n",
    "= & -5 I - 0.5 Z_1 - Z_3  + 0.5 Z_4 + Z_1 Z_2 + 2 Z_1 Z_3 + 0.5 Z_2 Z_3 + 2.5 Z_3 Z_4\n",
    "\\end{align*}\n",
    "\n"
   ]
  },
  {
   "cell_type": "markdown",
   "metadata": {},
   "source": [
    "The problem can be solved easily using brute force. Evaluating function for all 4 bit strings gives the following plot. Minima is obtained for bitstring \"1001\" where y = -11"
   ]
  },
  {
   "cell_type": "code",
   "execution_count": 179,
   "metadata": {},
   "outputs": [
    {
     "data": {
      "image/png": "[encoded data removed]",
      "text/plain": [
       "<Figure size 432x288 with 1 Axes>"
      ]
     },
     "metadata": {
      "needs_background": "light"
     },
     "output_type": "display_data"
    }
   ],
   "source": [
    "import matplotlib.pyplot as plt\n",
    "\n",
    "value = []\n",
    "binary = [bin(i)[2:].zfill(4) for i in range(16)]\n",
    "\n",
    "for state in binary:\n",
    "    value.append(qubo(state))\n",
    "    \n",
    "plt.plot(value,\"o-\")\n",
    "plt.ylabel(\"y\")\n",
    "\n",
    "\n",
    "plt.xticks(range(16), binary, rotation=50);\n"
   ]
  },
  {
   "cell_type": "code",
   "execution_count": null,
   "metadata": {},
   "outputs": [],
   "source": [
    "def qubo(state):\n",
    "    \"\"\"\n",
    "    Calculates the value of QUBO problem for a bitstring\n",
    "    Args : \n",
    "        State: Bitstring of length 4\n",
    "        \n",
    "    Returns:\n",
    "        Value of QUBO for that bitstring\n",
    "    \n",
    "    \"\"\"\n",
    "    x1,x2,x3,x4 = str(state)\n",
    "    x1 = int(x1); x2 = int(x2); x3 = int(x3); x4 = int(x4)\n",
    "\n",
    "    y = -5*x1 -3*x2 -8*x3 - 6 *x4 + 4 * x1*x2 + 8 *x1*x3 + 2*x2*x3 + 10*x3*x4\n",
    "    \n",
    "    return y\n",
    "\n",
    "def compute_expectation(counts,shots):\n",
    "    \"\"\"\n",
    "    Calculates expectation value of a QUBO problem corresponding to circuit measurement\n",
    "    Args:\n",
    "        counts: Dictionary of measurement obtained from qiskit,\n",
    "                containing states as keys, and associated probabilities to those states\n",
    "        shots: total shots used for measurement\n",
    "        \n",
    "    Return:\n",
    "        Expectation value of the QUBO for given measurement\n",
    "    \n",
    "    \"\"\"\n",
    "    exp = 0\n",
    "    for state in counts:\n",
    "        p = counts[state]/shots\n",
    "        y = qubo(state)\n",
    "        exp += p * y\n",
    "    return exp"
   ]
  },
  {
   "cell_type": "markdown",
   "metadata": {},
   "source": [
    "# Quantum Approximate Optimation Algorithm (QAOA)"
   ]
  },
  {
   "cell_type": "code",
   "execution_count": 181,
   "metadata": {},
   "outputs": [],
   "source": [
    "def Hp(qc,gamma):\n",
    "    \"\"\"\n",
    "    Creates the circuit corresponding to the problem unitary\n",
    "    \n",
    "    Args:\n",
    "        qc : Initial circuit on which problem unitary is applied\n",
    "        gamma : QAOA parameter for the problem unitary\n",
    "    \n",
    "    \"\"\"\n",
    "    ## RZ gates\n",
    "    qc.rz(-2*0.5*gamma,0)\n",
    "    qc.rz(-2*gamma,2)\n",
    "    qc.rz(2*0.5*gamma,3)\n",
    "    \n",
    "    ## RZZ gates\n",
    "    qc.rzz(2*2*gamma,0,1)\n",
    "    qc.rzz(2*2*gamma,0,2)\n",
    "    qc.rzz(2*0.5*gamma,1,2)\n",
    "    qc.rzz(2*2.5*gamma,2,3)\n",
    "    \n",
    "def mixer(qc,beta):\n",
    "    \"\"\"\n",
    "    Creates the circuit corresponding to the mixer unitary\n",
    "    \n",
    "    Args:\n",
    "        qc : Initial circuit on which problem unitary is applied\n",
    "        beta : QAOA parameter for the mixer unitary\n",
    "    \"\"\"\n",
    "    for i in range(4):\n",
    "        qc.rx(2 * beta, i)\n",
    "        "
   ]
  },
  {
   "cell_type": "code",
   "execution_count": 221,
   "metadata": {},
   "outputs": [],
   "source": [
    "def qaoa(param,p):\n",
    "    \"\"\"\n",
    "    Gives the circuit corresponding to the qaoa problem (problem unitary +  mixer + measurement)\n",
    "    \n",
    "    Args:\n",
    "        param: parameters gamma's and beta's. First p values correspond to gamma parameters,\n",
    "               last p values correspond to beta parameters\n",
    "        p: Repitions of qaoa circuit\n",
    "        \n",
    "    Returns:\n",
    "        Full QAOA circuit\n",
    "    \"\"\"\n",
    "    \n",
    "    \n",
    "    num_qubits = 4\n",
    "    circuit = qt.QuantumCircuit(num_qubits)\n",
    "    for i in range(num_qubits):\n",
    "        circuit.h(i)\n",
    "        \n",
    "    gamma = param[:p]\n",
    "    beta = param[p:]\n",
    "\n",
    "    for i in range(p):\n",
    "        Hp(circuit,gamma[i])\n",
    "        mixer(circuit,beta[i])\n",
    "\n",
    "    circuit.measure_all()\n",
    "    \n",
    "    return circuit\n",
    "\n",
    "    \n",
    "def get_expectation_QAOA(param, shots=1024):\n",
    "    \"\"\"\n",
    "    Computes expectation of QUBO function corresponding to given QAOA params\n",
    "    \n",
    "    Args:\n",
    "        param: parameters gamma's and beta's. First p values correspond to gamma parameters,\n",
    "               last p values correspond to beta parameters\n",
    "        shots: No. of shots used in measurement\n",
    "    \n",
    "    Returns:\n",
    "        Expectation value of QUBO fucntion for the given QAOA params\n",
    "        \n",
    "    \"\"\"\n",
    "\n",
    "    qc = qaoa(param,p)\n",
    "    backend = Aer.get_backend('aer_simulator')\n",
    "\n",
    "    counts = backend.run(qc, seed_simulator=10,\n",
    "                         shots=shots).result().get_counts()\n",
    "\n",
    "    return compute_expectation(counts,shots)\n",
    "\n"
   ]
  },
  {
   "cell_type": "markdown",
   "metadata": {},
   "source": [
    "# Optimizing QAOA parameters"
   ]
  },
  {
   "cell_type": "code",
   "execution_count": 242,
   "metadata": {},
   "outputs": [
    {
     "name": "stdout",
     "output_type": "stream",
     "text": [
      "Time for executing QAOA circuit: 16.834516525268555s\n",
      "\n"
     ]
    },
    {
     "data": {
      "text/plain": [
       "     fun: -8.4072265625\n",
       "   maxcv: 0.0\n",
       " message: 'Optimization terminated successfully.'\n",
       "    nfev: 149\n",
       "  status: 1\n",
       " success: True\n",
       "       x: array([1.55379277, 1.43282687, 0.83700843, 1.46903402, 0.84389678,\n",
       "       1.29157695, 0.73536792, 1.50930347, 0.72449291, 1.57747242,\n",
       "       0.70776817, 1.43539842])"
      ]
     },
     "execution_count": 242,
     "metadata": {},
     "output_type": "execute_result"
    }
   ],
   "source": [
    "from scipy.optimize import minimize\n",
    "\n",
    "## Number of QAOA repetition\n",
    "p = 6\n",
    "\n",
    "## Minimize function from scipy used to find optimum qaoa params. Time function evaluates QAOA execution time\n",
    "time1 = time.time()\n",
    "res_qaoa = minimize(get_expectation_QAOA,[0.8,1.5]*p,method='COBYLA')\n",
    "time2 = time.time()\n",
    "\n",
    "time_qaoa = time2- time1\n",
    "print(f\"Time for executing QAOA circuit: {time_qaoa}s\\n\")\n",
    "\n",
    "res_qaoa"
   ]
  },
  {
   "cell_type": "markdown",
   "metadata": {},
   "source": [
    "Although optimum minization for function is at y=-11, for bitstring \"1001\", we obtain a higher function value here. This is because we get several bitstrings from our measurement (instead of just one correct answer). However, the highest probability bitstring is infact the correct solution to our problem"
   ]
  },
  {
   "cell_type": "code",
   "execution_count": 243,
   "metadata": {},
   "outputs": [
    {
     "data": {
      "image/png": "[encoded data removed]",
      "text/plain": [
       "<Figure size 504x360 with 1 Axes>"
      ]
     },
     "execution_count": 243,
     "metadata": {},
     "output_type": "execute_result"
    }
   ],
   "source": [
    "from qiskit.visualization import plot_histogram\n",
    "\n",
    "qc = qaoa(res_qaoa.x,p)\n",
    "counts = backend.run(qc, seed_simulator=10,shots=1024).result().get_counts()\n",
    "plot_histogram(counts)"
   ]
  },
  {
   "cell_type": "markdown",
   "metadata": {},
   "source": [
    "We obtained the correct bitstring \"1001\" with highest probablity of 0.517 for repetition value of p = 6.\n",
    "QAOA is expected to converge as we increase the repetition. Increasing p value should provide higher probability of correct bit string."
   ]
  },
  {
   "cell_type": "markdown",
   "metadata": {},
   "source": [
    "# Variational Quantum Eigensolver (VQE)"
   ]
  },
  {
   "cell_type": "code",
   "execution_count": 216,
   "metadata": {},
   "outputs": [],
   "source": [
    "from qiskit import QuantumCircuit, ClassicalRegister, QuantumRegister\n",
    "\n",
    "def vqe(params):\n",
    "    \"\"\"\n",
    "    Creates the VQE circuit \n",
    "    \n",
    "    Args:\n",
    "        params: List of length 3*qubits, with input parameters VQE gate\n",
    "    \n",
    "    Returns:\n",
    "        Circuit for VQE\n",
    "    \"\"\"\n",
    "    qubits = 4\n",
    "    \n",
    "    qr = QuantumRegister(qubits)\n",
    "    cr = ClassicalRegister(qubits)\n",
    "    qc = QuantumCircuit(qr, cr)\n",
    "    \n",
    "    qc.h(range(qubits))\n",
    "    \n",
    "    ## We dont need any entanglement since we are only looking for basis states\n",
    "    ## in our optimum solution\n",
    "    for i in range(4):\n",
    "        qc.u(params[3*i], params[3*i + 1], params[3*i + 2], qr[i])\n",
    "    \n",
    "    qc.measure(qr, cr)\n",
    "    return qc\n",
    "\n",
    "\n",
    "def get_expectation_VQE(param, shots=1024):\n",
    "    \"\"\"\n",
    "    Computes expectation of QUBO function corresponding to given VQE params\n",
    "    \n",
    "    Args:\n",
    "        param: parameters gamma's and beta's. First p values correspond to gamma parameters,\n",
    "               last p values correspond to beta parameters\n",
    "        shots: No. of shots used in measurement\n",
    "    \n",
    "    Returns:\n",
    "        Expectation value of QUBO fucntion for the given VQE params\n",
    "        \n",
    "    \"\"\"\n",
    "\n",
    "    qc = vqe(param)\n",
    "    backend = Aer.get_backend('aer_simulator')\n",
    "\n",
    "    counts = backend.run(qc, seed_simulator=10,\n",
    "                         shots=shots).result().get_counts()\n",
    "\n",
    "    return compute_expectation(counts,shots)"
   ]
  },
  {
   "cell_type": "code",
   "execution_count": 259,
   "metadata": {},
   "outputs": [
    {
     "name": "stdout",
     "output_type": "stream",
     "text": [
      "Time for executing VQE circuit: 17.892186164855957s.\n",
      "\n"
     ]
    },
    {
     "data": {
      "text/plain": [
       "     fun: -10.9482421875\n",
       "   maxcv: 0.0\n",
       " message: 'Optimization terminated successfully.'\n",
       "    nfev: 142\n",
       "  status: 1\n",
       " success: True\n",
       "       x: array([ 1.66078782,  0.81123976, -0.03006095,  1.63350039, -0.19284499,\n",
       "        3.21082693,  1.77906811,  1.46612555,  2.92910687,  1.56756782,\n",
       "        0.77442665, -0.07942941])"
      ]
     },
     "execution_count": 259,
     "metadata": {},
     "output_type": "execute_result"
    }
   ],
   "source": [
    "from scipy.optimize import minimize\n",
    "import random\n",
    "\n",
    "num_qubits = 4\n",
    "\n",
    "## Minimize function from scipy used to find optimum vqe params. Time function evaluates VQE execution time\n",
    "time1 = time.time()\n",
    "res_VQE = minimize(get_expectation_VQE,[0.8,1.5]*6,method='COBYLA')\n",
    "time2 = time.time()\n",
    "\n",
    "time_vqe = time2-time1\n",
    "print(f\"Time for executing VQE circuit: {time_vqe}s.\\n\")\n",
    "\n",
    "res_VQE"
   ]
  },
  {
   "cell_type": "markdown",
   "metadata": {},
   "source": [
    "Minimum expectation value of function is obtained to be -10.9482 (instead of 11) This is because we get several bitstrings from our measurement (instead of just one correct answer). However, the highest probability bitstring (\"1001\") is infact the correct solution to our problem"
   ]
  },
  {
   "cell_type": "code",
   "execution_count": 260,
   "metadata": {},
   "outputs": [
    {
     "data": {
      "image/png": "[encoded data removed]",
      "text/plain": [
       "<Figure size 504x360 with 1 Axes>"
      ]
     },
     "execution_count": 260,
     "metadata": {},
     "output_type": "execute_result"
    }
   ],
   "source": [
    "from qiskit.visualization import plot_histogram\n",
    "\n",
    "qc = vqe(res_VQE.x)\n",
    "counts = backend.run(qc, seed_simulator=10,shots=1024).result().get_counts()\n",
    "plot_histogram(counts)"
   ]
  },
  {
   "cell_type": "markdown",
   "metadata": {},
   "source": [
    "The correct bitstring is obtained with maximum probability of 0.976"
   ]
  },
  {
   "cell_type": "markdown",
   "metadata": {},
   "source": [
    "# Comparison of QAOA and VQE"
   ]
  },
  {
   "cell_type": "markdown",
   "metadata": {},
   "source": [
    "$\\phantom{}$|QAOA |VQE\n",
    "-----|-----|----- \n",
    "Time|16.8345s|17.8922s\n",
    "Prob. of correct string|0.517  |0.976\n",
    "No. of Params|12|12\n",
    "\n",
    "The results of QAOA and VQE are mostly similar in terms of execution times and number of parameters used. Correct bit-string probabilty is higher for VQE. However, algorithm times are not properly comparable since they would change with change in initial parameters. The starting values used for both QAOA and VQE were chosen by hit-and-trial. Chosing initial parameters carefully will reduce execution time for both"
   ]
  }
 ],
 "metadata": {
  "kernelspec": {
   "display_name": "qiskit-env",
   "language": "python",
   "name": "qiskit-env"
  },
  "language_info": {
   "codemirror_mode": {
    "name": "ipython",
    "version": 3
   },
   "file_extension": ".py",
   "mimetype": "text/x-python",
   "name": "python",
   "nbconvert_exporter": "python",
   "pygments_lexer": "ipython3",
   "version": "3.9.2"
  }
 },
 "nbformat": 4,
 "nbformat_minor": 4
}
